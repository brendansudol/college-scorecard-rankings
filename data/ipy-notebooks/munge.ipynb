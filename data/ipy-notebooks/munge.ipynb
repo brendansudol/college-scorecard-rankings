{
 "cells": [
  {
   "cell_type": "code",
   "execution_count": 43,
   "metadata": {
    "collapsed": true
   },
   "outputs": [],
   "source": [
    "import json\n",
    "import pandas as pd"
   ]
  },
  {
   "cell_type": "code",
   "execution_count": 2,
   "metadata": {
    "collapsed": false
   },
   "outputs": [
    {
     "name": "stdout",
     "output_type": "stream",
     "text": [
      "(7804, 1728)\n",
      "UNITID                                                        100654\n",
      "OPEID                                                         100200\n",
      "opeid6                                                          1002\n",
      "INSTNM                                      Alabama A & M University\n",
      "CITY                                                          Normal\n",
      "STABBR                                                            AL\n",
      "ZIP                                                            35762\n",
      "AccredAgency       Southern Association of Colleges and Schools C...\n",
      "INSTURL                                                www.aamu.edu/\n",
      "NPCURL                galileo.aamu.edu/netpricecalculator/npcalc.htm\n",
      "HCM2                                                               0\n",
      "main                                                               1\n",
      "NUMBRANCH                                                          1\n",
      "PREDDEG                                                            3\n",
      "HIGHDEG                                                            4\n",
      "CONTROL                                                            1\n",
      "st_fips                                                            1\n",
      "region                                                             5\n",
      "LOCALE                                                            12\n",
      "LATITUDE                                                     34.7834\n",
      "LONGITUDE                                                   -86.5685\n",
      "CCBASIC                                                           18\n",
      "CCUGPROF                                                           9\n",
      "CCSIZSET                                                          14\n",
      "HBCU                                                               1\n",
      "PBI                                                                0\n",
      "ANNHI                                                              0\n",
      "TRIBAL                                                             0\n",
      "AANAPII                                                            0\n",
      "HSI                                                                0\n",
      "                                         ...                        \n",
      "MD_INC_YR6_N                                                     350\n",
      "HI_INC_YR6_N                                                     NaN\n",
      "DEP_YR6_N                                                       1067\n",
      "IND_YR6_N                                                        NaN\n",
      "FEMALE_YR6_N                                                     634\n",
      "MALE_YR6_N                                                       612\n",
      "PELL_YR6_N                                                      1037\n",
      "NOPELL_YR6_N                                                     222\n",
      "LOAN_YR6_N                                                      1155\n",
      "NOLOAN_YR6_N                                                     104\n",
      "FIRSTGEN_YR6_N                                                   390\n",
      "NOT1STGEN_YR6_N                                                  666\n",
      "OVERALL_YR8_N                                                   1336\n",
      "LO_INC_YR8_N                                                     798\n",
      "MD_INC_YR8_N                                                     403\n",
      "HI_INC_YR8_N                                                     NaN\n",
      "DEP_YR8_N                                                       1151\n",
      "IND_YR8_N                                                        NaN\n",
      "FEMALE_YR8_N                                                     703\n",
      "MALE_YR8_N                                                       NaN\n",
      "PELL_YR8_N                                                      1089\n",
      "NOPELL_YR8_N                                                     247\n",
      "LOAN_YR8_N                                                      1225\n",
      "NOLOAN_YR8_N                                                     111\n",
      "FIRSTGEN_YR8_N                                                   485\n",
      "NOT1STGEN_YR8_N                                                  657\n",
      "REPAY_DT_MDN                                                  379852\n",
      "SEPAR_DT_MDN                                                  379852\n",
      "REPAY_DT_N                                                      1788\n",
      "SEPAR_DT_N                                                      2182\n",
      "Name: 0, dtype: object\n"
     ]
    }
   ],
   "source": [
    "fname = '../data-raw/Most+Recent+Cohorts+(All+Data+Elements).csv'\n",
    "df = pd.read_csv(fname, na_values=['NULL', 'PrivacySuppressed'])\n",
    "\n",
    "print df.shape\n",
    "print df.iloc[0]"
   ]
  },
  {
   "cell_type": "code",
   "execution_count": 3,
   "metadata": {
    "collapsed": false
   },
   "outputs": [
    {
     "name": "stdout",
     "output_type": "stream",
     "text": [
      "7804\n",
      "2133\n",
      "1614\n",
      "1608\n"
     ]
    }
   ],
   "source": [
    "# Predominantly bachelor's degree granting (PREDDEG = 3)\n",
    "# No Special Focus Institutions (CCBASIC < 24)\n",
    "# 4-year schools, all sizes (CCSIZSET >= 6)\n",
    "\n",
    "dg = df.copy()\n",
    "print len(dg)\n",
    "\n",
    "dg = dg[dg.PREDDEG == 3]\n",
    "print len(dg)\n",
    "\n",
    "dg = dg[dg.CCBASIC < 24]\n",
    "print len(dg)\n",
    "\n",
    "dg = dg[dg.CCSIZSET >= 6]\n",
    "print len(dg)"
   ]
  },
  {
   "cell_type": "code",
   "execution_count": 4,
   "metadata": {
    "collapsed": false
   },
   "outputs": [
    {
     "data": {
      "text/plain": [
       "UNITID                                                        100654\n",
       "OPEID                                                         100200\n",
       "opeid6                                                          1002\n",
       "INSTNM                                      Alabama A & M University\n",
       "CITY                                                          Normal\n",
       "STABBR                                                            AL\n",
       "ZIP                                                            35762\n",
       "AccredAgency       Southern Association of Colleges and Schools C...\n",
       "INSTURL                                                www.aamu.edu/\n",
       "NPCURL                galileo.aamu.edu/netpricecalculator/npcalc.htm\n",
       "HCM2                                                               0\n",
       "main                                                               1\n",
       "NUMBRANCH                                                          1\n",
       "PREDDEG                                                            3\n",
       "HIGHDEG                                                            4\n",
       "CONTROL                                                            1\n",
       "st_fips                                                            1\n",
       "region                                                             5\n",
       "LOCALE                                                            12\n",
       "LATITUDE                                                     34.7834\n",
       "LONGITUDE                                                   -86.5685\n",
       "CCBASIC                                                           18\n",
       "CCUGPROF                                                           9\n",
       "CCSIZSET                                                          14\n",
       "HBCU                                                               1\n",
       "PBI                                                                0\n",
       "ANNHI                                                              0\n",
       "TRIBAL                                                             0\n",
       "AANAPII                                                            0\n",
       "HSI                                                                0\n",
       "                                         ...                        \n",
       "MD_INC_YR6_N                                                     350\n",
       "HI_INC_YR6_N                                                     NaN\n",
       "DEP_YR6_N                                                       1067\n",
       "IND_YR6_N                                                        NaN\n",
       "FEMALE_YR6_N                                                     634\n",
       "MALE_YR6_N                                                       612\n",
       "PELL_YR6_N                                                      1037\n",
       "NOPELL_YR6_N                                                     222\n",
       "LOAN_YR6_N                                                      1155\n",
       "NOLOAN_YR6_N                                                     104\n",
       "FIRSTGEN_YR6_N                                                   390\n",
       "NOT1STGEN_YR6_N                                                  666\n",
       "OVERALL_YR8_N                                                   1336\n",
       "LO_INC_YR8_N                                                     798\n",
       "MD_INC_YR8_N                                                     403\n",
       "HI_INC_YR8_N                                                     NaN\n",
       "DEP_YR8_N                                                       1151\n",
       "IND_YR8_N                                                        NaN\n",
       "FEMALE_YR8_N                                                     703\n",
       "MALE_YR8_N                                                       NaN\n",
       "PELL_YR8_N                                                      1089\n",
       "NOPELL_YR8_N                                                     247\n",
       "LOAN_YR8_N                                                      1225\n",
       "NOLOAN_YR8_N                                                     111\n",
       "FIRSTGEN_YR8_N                                                   485\n",
       "NOT1STGEN_YR8_N                                                  657\n",
       "REPAY_DT_MDN                                                  379852\n",
       "SEPAR_DT_MDN                                                  379852\n",
       "REPAY_DT_N                                                      1788\n",
       "SEPAR_DT_N                                                      2182\n",
       "Name: 0, dtype: object"
      ]
     },
     "execution_count": 4,
     "metadata": {},
     "output_type": "execute_result"
    }
   ],
   "source": [
    "dg.iloc[0]"
   ]
  },
  {
   "cell_type": "code",
   "execution_count": 5,
   "metadata": {
    "collapsed": true
   },
   "outputs": [],
   "source": [
    "# % Who Graduate In 6 years = C150_4_POOLED\n",
    "# % Of Students Who Are First Generation College Students = PAR_ED_PCT_1STGEN\n",
    "# % Of Students Recieving Federal Loans = PCTFLOAN\n",
    "# % Of Students Recieving Pell Grants = PCTPELL\n",
    "\n",
    "# Default Rate = CDR3\n",
    "\n",
    "# Average Wage, 6 Years After Entry = md_earn_wne_p6 (median), mn_earn_wne_p6 (mean), sd_earn_wne_p6 (sd)\n",
    "# Median Wage, 10 years After Entry = md_earn_wne_p10 (median), mn_earn_wne_p10 (mean), sd_earn_wne_p10 (sd)\n",
    "\n",
    "# Average Net Price = COALESCE(NPT4_PUB, NPT4_PRIV)\n",
    "# Net Price For Students Whose Families Earn less than $48,000 = COALESCE(NPT4_048_PUB, NPT4_048_PRIV)"
   ]
  },
  {
   "cell_type": "code",
   "execution_count": 30,
   "metadata": {
    "collapsed": false
   },
   "outputs": [
    {
     "data": {
      "text/plain": [
       "UNITID                                 100654\n",
       "INSTNM               Alabama A & M University\n",
       "CITY                                   Normal\n",
       "STABBR                                     AL\n",
       "ZIP                                     35762\n",
       "INSTURL                         www.aamu.edu/\n",
       "C150_4_POOLED                        0.308718\n",
       "PAR_ED_PCT_1STGEN                    0.389902\n",
       "PCTFLOAN                               0.8204\n",
       "PCTPELL                                0.7115\n",
       "CDR3                                     16.3\n",
       "MD_EARN_WNE_P6                          22800\n",
       "MN_EARN_WNE_P6                          26100\n",
       "SD_EARN_WNE_P6                          21100\n",
       "MD_EARN_WNE_P10                         31400\n",
       "MN_EARN_WNE_P10                         35300\n",
       "SD_EARN_WNE_P10                         27800\n",
       "NPT4_PUB_PRIV                           13415\n",
       "NPT4_048_PUB_PRIV                       12807\n",
       "Name: 0, dtype: object"
      ]
     },
     "execution_count": 30,
     "metadata": {},
     "output_type": "execute_result"
    }
   ],
   "source": [
    "dh = dg.copy()\n",
    "\n",
    "cols_to_keep = [\n",
    "    'UNITID', 'INSTNM', 'CITY', 'STABBR', 'ZIP', 'INSTURL',\n",
    "    'C150_4_POOLED', 'PAR_ED_PCT_1STGEN', 'PCTFLOAN', 'PCTPELL', 'CDR3',\n",
    "    'md_earn_wne_p6', 'mn_earn_wne_p6', 'sd_earn_wne_p6',\n",
    "    'md_earn_wne_p10', 'mn_earn_wne_p10', 'sd_earn_wne_p10',\n",
    "    'NPT4_PUB', 'NPT4_PRIV', 'NPT4_048_PUB', 'NPT4_048_PRIV',\n",
    "]\n",
    "\n",
    "dh = dh[cols_to_keep]\n",
    "\n",
    "# uppercase all column names\n",
    "dh.columns = [c.upper() for c in dh.columns]\n",
    "\n",
    "dh[\"NPT4_PUB_PRIV\"] = dh[[\"NPT4_PUB\", \"NPT4_PRIV\"]].sum(axis=1)\n",
    "dh[\"NPT4_048_PUB_PRIV\"] = dh[[\"NPT4_048_PUB\", \"NPT4_048_PRIV\"]].sum(axis=1)\n",
    "dh.drop(['NPT4_PUB', 'NPT4_PRIV', 'NPT4_048_PUB', 'NPT4_048_PRIV'],inplace=True,axis=1)\n",
    "\n",
    "dh.iloc[0]"
   ]
  },
  {
   "cell_type": "code",
   "execution_count": 32,
   "metadata": {
    "collapsed": false
   },
   "outputs": [
    {
     "name": "stdout",
     "output_type": "stream",
     "text": [
      "{u'PAR_ED_PCT_1STGEN': {u'count': 1575.0, u'std': 0.1127222318, u'mean': 0.3496813616}, u'SD_EARN_WNE_P6': {u'count': 1574.0, u'std': 9470.1659943501, u'mean': 25264.9936467598}, u'C150_4_POOLED': {u'count': 1559.0, u'std': 0.1949804698, u'mean': 0.5147736627}, u'CDR3': {u'count': 1604.0, u'std': 5.9799661138, u'mean': 8.7354738155}, u'MN_EARN_WNE_P10': {u'count': 1562.0, u'std': 12688.5065512873, u'mean': 47231.1139564661}, u'MD_EARN_WNE_P6': {u'count': 1574.0, u'std': 8037.1751025618, u'mean': 33117.1537484117}, u'MN_EARN_WNE_P6': {u'count': 1574.0, u'std': 9312.2515791672, u'mean': 36346.9504447268}, u'PCTPELL': {u'count': 1607.0, u'std': 0.1752264466, u'mean': 0.3972315495}, u'MD_EARN_WNE_P10': {u'count': 1562.0, u'std': 10037.4164791538, u'mean': 42218.6299615877}, u'PCTFLOAN': {u'count': 1607.0, u'std': 0.1770724115, u'mean': 0.6014067828}, u'NPT4_048_PUB_PRIV': {u'count': 1570.0, u'std': 5812.1177095323, u'mean': 15045.1242038217}, u'NPT4_PUB_PRIV': {u'count': 1570.0, u'std': 6680.6992077137, u'mean': 18625.1917197452}, u'SD_EARN_WNE_P10': {u'count': 1562.0, u'std': 14052.6117085606, u'mean': 34806.5300896287}}\n"
     ]
    }
   ],
   "source": [
    "# summary stats of numeric cols\n",
    "\n",
    "numeric_cols = [\n",
    "    'C150_4_POOLED', 'PAR_ED_PCT_1STGEN', 'PCTFLOAN', 'PCTPELL', 'CDR3',\n",
    "     'MD_EARN_WNE_P6', 'MN_EARN_WNE_P6', 'SD_EARN_WNE_P6',\n",
    "     'MD_EARN_WNE_P10', 'MN_EARN_WNE_P10', 'SD_EARN_WNE_P10',\n",
    "     'NPT4_PUB_PRIV', 'NPT4_048_PUB_PRIV'\n",
    "]\n",
    "\n",
    "# get summary stats\n",
    "dh_ss = dh[numeric_cols].describe()\n",
    "\n",
    "# limit to count, mean, and standard deviation\n",
    "dh_ss = dh_ss.loc['count':'std']\n",
    "\n",
    "# convert to json\n",
    "stats = json.loads(dh_ss.to_json())\n",
    "\n",
    "print stats"
   ]
  },
  {
   "cell_type": "code",
   "execution_count": 33,
   "metadata": {
    "collapsed": false
   },
   "outputs": [
    {
     "data": {
      "text/plain": [
       "UNITID                                   100654\n",
       "INSTNM                 Alabama A & M University\n",
       "CITY                                     Normal\n",
       "STABBR                                       AL\n",
       "ZIP                                       35762\n",
       "INSTURL                           www.aamu.edu/\n",
       "C150_4_POOLED                          0.308718\n",
       "PAR_ED_PCT_1STGEN                      0.389902\n",
       "PCTFLOAN                                 0.8204\n",
       "PCTPELL                                  0.7115\n",
       "CDR3                                       16.3\n",
       "MD_EARN_WNE_P6                            22800\n",
       "MN_EARN_WNE_P6                            26100\n",
       "SD_EARN_WNE_P6                            21100\n",
       "MD_EARN_WNE_P10                           31400\n",
       "MN_EARN_WNE_P10                           35300\n",
       "SD_EARN_WNE_P10                           27800\n",
       "NPT4_PUB_PRIV                             13415\n",
       "NPT4_048_PUB_PRIV                         12807\n",
       "C150_4_POOLED_z                         -1.0568\n",
       "PAR_ED_PCT_1STGEN_z                     0.35681\n",
       "PCTFLOAN_z                              1.23674\n",
       "PCTPELL_z                                1.7935\n",
       "CDR3_z                                  1.26498\n",
       "MD_EARN_WNE_P6_z                       -1.28368\n",
       "MN_EARN_WNE_P6_z                       -1.10037\n",
       "SD_EARN_WNE_P6_z                      -0.439802\n",
       "MD_EARN_WNE_P10_z                      -1.07783\n",
       "MN_EARN_WNE_P10_z                     -0.940309\n",
       "SD_EARN_WNE_P10_z                     -0.498593\n",
       "NPT4_PUB_PRIV_z                       -0.779887\n",
       "NPT4_048_PUB_PRIV_z                   -0.385079\n",
       "Name: 0, dtype: object"
      ]
     },
     "execution_count": 33,
     "metadata": {},
     "output_type": "execute_result"
    }
   ],
   "source": [
    "# add normalized z-score for each numeric col\n",
    "\n",
    "for c in numeric_cols:\n",
    "    dh['{}_z'.format(c)] = dh[c].apply(lambda x: 0 if pd.isnull(x) else (x - stats[c]['mean']) / stats[c]['std'])\n",
    "\n",
    "dh.iloc[0]"
   ]
  },
  {
   "cell_type": "code",
   "execution_count": 45,
   "metadata": {
    "collapsed": false
   },
   "outputs": [],
   "source": [
    "# output to json\n",
    "\n",
    "dh.to_json('../data-clean/college-data.json', orient='records')"
   ]
  }
 ],
 "metadata": {
  "kernelspec": {
   "display_name": "Python 2",
   "language": "python",
   "name": "python2"
  },
  "language_info": {
   "codemirror_mode": {
    "name": "ipython",
    "version": 2
   },
   "file_extension": ".py",
   "mimetype": "text/x-python",
   "name": "python",
   "nbconvert_exporter": "python",
   "pygments_lexer": "ipython2",
   "version": "2.7.6"
  }
 },
 "nbformat": 4,
 "nbformat_minor": 0
}
