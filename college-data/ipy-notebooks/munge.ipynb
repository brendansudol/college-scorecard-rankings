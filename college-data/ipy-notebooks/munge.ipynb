{
 "cells": [
  {
   "cell_type": "code",
   "execution_count": 462,
   "metadata": {
    "collapsed": true
   },
   "outputs": [],
   "source": [
    "import json\n",
    "import pandas as pd"
   ]
  },
  {
   "cell_type": "code",
   "execution_count": 463,
   "metadata": {
    "collapsed": false
   },
   "outputs": [
    {
     "name": "stdout",
     "output_type": "stream",
     "text": [
      "(7804, 1728)\n",
      "UNITID                                                     100654\n",
      "OPEID                                                      100200\n",
      "opeid6                                                       1002\n",
      "INSTNM                                   Alabama A & M University\n",
      "CITY                                                       Normal\n",
      "STABBR                                                         AL\n",
      "ZIP                                                         35762\n",
      "AccredAgency    Southern Association of Colleges and Schools C...\n",
      "INSTURL                                             www.aamu.edu/\n",
      "NPCURL             galileo.aamu.edu/netpricecalculator/npcalc.htm\n",
      "HCM2                                                            0\n",
      "main                                                            1\n",
      "NUMBRANCH                                                       1\n",
      "PREDDEG                                                         3\n",
      "HIGHDEG                                                         4\n",
      "...\n",
      "HI_INC_YR8_N          NaN\n",
      "DEP_YR8_N            1151\n",
      "IND_YR8_N             NaN\n",
      "FEMALE_YR8_N          703\n",
      "MALE_YR8_N            NaN\n",
      "PELL_YR8_N           1089\n",
      "NOPELL_YR8_N          247\n",
      "LOAN_YR8_N           1225\n",
      "NOLOAN_YR8_N          111\n",
      "FIRSTGEN_YR8_N        485\n",
      "NOT1STGEN_YR8_N       657\n",
      "REPAY_DT_MDN       379852\n",
      "SEPAR_DT_MDN       379852\n",
      "REPAY_DT_N           1788\n",
      "SEPAR_DT_N           2182\n",
      "Name: 0, Length: 1728, dtype: object\n"
     ]
    }
   ],
   "source": [
    "# before you run this cell, unzip the data in data-raw directory\n",
    "\n",
    "fname = '../data-raw/Most+Recent+Cohorts+(All+Data+Elements).csv'\n",
    "df = pd.read_csv(fname, na_values=['NULL', 'PrivacySuppressed'])\n",
    "\n",
    "print df.shape\n",
    "print df.iloc[0]"
   ]
  },
  {
   "cell_type": "code",
   "execution_count": 464,
   "metadata": {
    "collapsed": false
   },
   "outputs": [
    {
     "name": "stdout",
     "output_type": "stream",
     "text": [
      "7804\n",
      "2133\n",
      "1786\n",
      "1781\n",
      "1775\n"
     ]
    }
   ],
   "source": [
    "# Predominantly bachelor's degree granting (PREDDEG = 3)\n",
    "# No Special Focus Institutions (using CCBASIC)\n",
    "# 4-year schools, all sizes (CCSIZSET >= 6)\n",
    "\n",
    "dg = df.copy()\n",
    "print len(dg)\n",
    "\n",
    "dg = dg[dg.PREDDEG == 3]\n",
    "print len(dg)\n",
    "\n",
    "dg = dg[(~(dg.CCBASIC.isin([24, 25, 26]))) & (dg.CCBASIC.notnull())]\n",
    "print len(dg)\n",
    "\n",
    "dg = dg[~dg.INSTNM.str.lower().str.contains('maritime|marine ')]\n",
    "print len(dg)\n",
    "\n",
    "dg = dg[(dg.CCSIZSET >= 6) | (pd.isnull(dg.CCSIZSET))]\n",
    "print len(dg)"
   ]
  },
  {
   "cell_type": "code",
   "execution_count": 465,
   "metadata": {
    "collapsed": true
   },
   "outputs": [],
   "source": [
    "# % Who Graduate In 6 years = C150_4_POOLED\n",
    "# % Of Students Who Are First Generation College Students = PAR_ED_PCT_1STGEN\n",
    "# % Of Students Recieving Federal Loans = PCTFLOAN\n",
    "# % Of Students Recieving Pell Grants = PCTPELL\n",
    "\n",
    "# Default Rate = CDR3\n",
    "\n",
    "# Average Wage, 6 Years After Entry = md_earn_wne_p6 (median), mn_earn_wne_p6 (mean), sd_earn_wne_p6 (sd)\n",
    "# Median Wage, 10 years After Entry = md_earn_wne_p10 (median), mn_earn_wne_p10 (mean), sd_earn_wne_p10 (sd)\n",
    "\n",
    "# Average Net Price = COALESCE(NPT4_PUB, NPT4_PRIV)\n",
    "# Net Price For Students Whose Families Earn less than $48,000 = COALESCE(NPT4_048_PUB, NPT4_048_PRIV)"
   ]
  },
  {
   "cell_type": "code",
   "execution_count": 466,
   "metadata": {
    "collapsed": false
   },
   "outputs": [
    {
     "data": {
      "text/plain": [
       "unitid                                 100654\n",
       "instnm               Alabama A & M University\n",
       "city                                   Normal\n",
       "stabbr                                     AL\n",
       "zip                                     35762\n",
       "insturl                         www.aamu.edu/\n",
       "c150_4_pooled                       0.3087183\n",
       "par_ed_pct_1stgen                   0.3899018\n",
       "pctfloan                               0.8204\n",
       "pctpell                                0.7115\n",
       "cdr3                                    0.163\n",
       "md_earn_wne_p6                          22800\n",
       "mn_earn_wne_p6                          26100\n",
       "sd_earn_wne_p6                          21100\n",
       "md_earn_wne_p10                         31400\n",
       "mn_earn_wne_p10                         35300\n",
       "sd_earn_wne_p10                         27800\n",
       "npt4_pub_priv                           13415\n",
       "npt4_048_pub_priv                       12807\n",
       "Name: 0, dtype: object"
      ]
     },
     "execution_count": 466,
     "metadata": {},
     "output_type": "execute_result"
    }
   ],
   "source": [
    "cols_to_keep = [\n",
    "    'UNITID', 'INSTNM', 'CITY', 'STABBR', 'ZIP', 'INSTURL',\n",
    "    'C150_4_POOLED', 'PAR_ED_PCT_1STGEN', 'PCTFLOAN', 'PCTPELL', 'CDR3',\n",
    "    'md_earn_wne_p6', 'mn_earn_wne_p6', 'sd_earn_wne_p6',\n",
    "    'md_earn_wne_p10', 'mn_earn_wne_p10', 'sd_earn_wne_p10',\n",
    "    'NPT4_PUB', 'NPT4_PRIV', 'NPT4_048_PUB', 'NPT4_048_PRIV',\n",
    "]\n",
    "\n",
    "dh = dg[cols_to_keep].copy()\n",
    "\n",
    "# lowercase all column names\n",
    "dh.columns = [c.lower() for c in dh.columns]\n",
    "\n",
    "dh[\"npt4_pub_priv\"] = dh[[\"npt4_pub\", \"npt4_priv\"]].sum(axis=1)\n",
    "dh[\"npt4_048_pub_priv\"] = dh[[\"npt4_048_pub\", \"npt4_048_priv\"]].sum(axis=1)\n",
    "dh.drop(['npt4_pub', 'npt4_priv', 'npt4_048_pub', 'npt4_048_priv'],inplace=True,axis=1)\n",
    "\n",
    "# convert CDR3 (default rate) to a rate (between 0 and 1)\n",
    "dh['cdr3'] = dh['cdr3'] / 100.0\n",
    "\n",
    "dh.iloc[0]"
   ]
  },
  {
   "cell_type": "code",
   "execution_count": 467,
   "metadata": {
    "collapsed": false
   },
   "outputs": [
    {
     "name": "stdout",
     "output_type": "stream",
     "text": [
      "{u'par_ed_pct_1stgen': {u'count': 1718.0, u'std': 0.114615799, u'mean': 0.3539928224}, u'sd_earn_wne_p6': {u'count': 1725.0, u'std': 9273.1625063746, u'mean': 25200.231884058}, u'c150_4_pooled': {u'count': 1715.0, u'std': 0.2001952273, u'mean': 0.5047869299}, u'cdr3': {u'count': 1769.0, u'std': 0.0629652896, u'mean': 0.0920864895}, u'mn_earn_wne_p10': {u'count': 1705.0, u'std': 12631.635453404, u'mean': 46822.7565982405}, u'md_earn_wne_p6': {u'count': 1725.0, u'std': 7969.3617048492, u'mean': 32724.0579710145}, u'mn_earn_wne_p6': {u'count': 1725.0, u'std': 9194.0706327188, u'mean': 36009.2753623188}, u'pctpell': {u'count': 1774.0, u'std': 0.1773811107, u'mean': 0.4050651635}, u'md_earn_wne_p10': {u'count': 1705.0, u'std': 10097.5280988055, u'mean': 41775.1319648094}, u'pctfloan': {u'count': 1774.0, u'std': 0.1804809532, u'mean': 0.6068392897}, u'npt4_048_pub_priv': {u'count': 1726.0, u'std': 6446.2170752131, u'mean': 15797.6477404403}, u'npt4_pub_priv': {u'count': 1726.0, u'std': 7084.5513691227, u'mean': 19207.5011587486}, u'sd_earn_wne_p10': {u'count': 1705.0, u'std': 14003.7605689528, u'mean': 34721.8181818182}}\n"
     ]
    }
   ],
   "source": [
    "# summary stats of numeric cols\n",
    "\n",
    "# (metric_id, higher_is_better)\n",
    "numeric_cols = [\n",
    "    ('c150_4_pooled', True),\n",
    "    ('par_ed_pct_1stgen', True), \n",
    "    ('pctfloan', True),\n",
    "    ('pctpell', True), \n",
    "    ('cdr3', False),\n",
    "    ('md_earn_wne_p6', True),\n",
    "    ('mn_earn_wne_p6', True), \n",
    "    ('sd_earn_wne_p6', True),\n",
    "    ('md_earn_wne_p10', True), \n",
    "    ('mn_earn_wne_p10', True), \n",
    "    ('sd_earn_wne_p10', True),\n",
    "    ('npt4_pub_priv', False), \n",
    "    ('npt4_048_pub_priv', False)   \n",
    "]\n",
    "\n",
    "numeric_cols_names = [c[0] for c in numeric_cols]\n",
    "\n",
    "# get summary stats\n",
    "dh_ss = dh[numeric_cols_names].describe()\n",
    "\n",
    "# limit to count, mean, and standard deviation\n",
    "dh_ss = dh_ss.loc['count':'std']\n",
    "\n",
    "# convert to json\n",
    "stats = json.loads(dh_ss.to_json())\n",
    "\n",
    "print stats"
   ]
  },
  {
   "cell_type": "code",
   "execution_count": 468,
   "metadata": {
    "collapsed": false
   },
   "outputs": [
    {
     "data": {
      "text/plain": [
       "unitid                                   100654\n",
       "instnm                 Alabama A & M University\n",
       "city                                     Normal\n",
       "stabbr                                       AL\n",
       "zip                                       35762\n",
       "insturl                           www.aamu.edu/\n",
       "c150_4_pooled                         0.3087183\n",
       "par_ed_pct_1stgen                     0.3899018\n",
       "pctfloan                                 0.8204\n",
       "pctpell                                  0.7115\n",
       "cdr3                                      0.163\n",
       "md_earn_wne_p6                            22800\n",
       "mn_earn_wne_p6                            26100\n",
       "sd_earn_wne_p6                            21100\n",
       "md_earn_wne_p10                           31400\n",
       "mn_earn_wne_p10                           35300\n",
       "sd_earn_wne_p10                           27800\n",
       "npt4_pub_priv                             13415\n",
       "npt4_048_pub_priv                         12807\n",
       "c150_4_pooled_z                      -0.9793871\n",
       "par_ed_pct_1stgen_z                   0.3132989\n",
       "pctfloan_z                             1.183287\n",
       "pctpell_z                              1.727551\n",
       "cdr3_z                                -1.126232\n",
       "md_earn_wne_p6_z                      -1.245276\n",
       "mn_earn_wne_p6_z                       -1.07779\n",
       "sd_earn_wne_p6_z                     -0.4421611\n",
       "md_earn_wne_p10_z                     -1.027492\n",
       "mn_earn_wne_p10_z                    -0.9122142\n",
       "sd_earn_wne_p10_z                    -0.4942828\n",
       "npt4_pub_priv_z                       0.8176243\n",
       "npt4_048_pub_priv_z                   0.4639384\n",
       "Name: 0, dtype: object"
      ]
     },
     "execution_count": 468,
     "metadata": {},
     "output_type": "execute_result"
    }
   ],
   "source": [
    "# add normalized z-score for each numeric col\n",
    "\n",
    "for col in numeric_cols:\n",
    "    c = col[0]\n",
    "    adj = 1 if col[1] else -1 # if lower val is better than high (i.e., default rate), then multiply z-score by -1\n",
    "    dh['{}_z'.format(c)] = dh[c].apply(lambda x: 0 if pd.isnull(x) else (x - stats[c]['mean']) / stats[c]['std'] * adj)\n",
    "\n",
    "dh.iloc[0]"
   ]
  },
  {
   "cell_type": "code",
   "execution_count": 469,
   "metadata": {
    "collapsed": false
   },
   "outputs": [],
   "source": [
    "# output to json\n",
    "\n",
    "dh.to_json('../data-clean/college-data.json', orient='records')"
   ]
  }
 ],
 "metadata": {
  "kernelspec": {
   "display_name": "Python 2",
   "language": "python",
   "name": "python2"
  },
  "language_info": {
   "codemirror_mode": {
    "name": "ipython",
    "version": 2
   },
   "file_extension": ".py",
   "mimetype": "text/x-python",
   "name": "python",
   "nbconvert_exporter": "python",
   "pygments_lexer": "ipython2",
   "version": "2.7.6"
  }
 },
 "nbformat": 4,
 "nbformat_minor": 0
}
